{
 "cells": [
  {
   "cell_type": "code",
   "execution_count": 30,
   "metadata": {},
   "outputs": [],
   "source": [
    "import sys\n",
    "import numpy as np\n",
    "\n",
    "def getPointsArray(inputCloud):\n",
    "\n",
    "\tf = open(inputCloud)\n",
    "\t\n",
    "\tfor i in range(0,2):\n",
    "\t\tf.readline()\n",
    "\n",
    "\tnumPoints = int(f.readline().split(' ')[2])\n",
    "\n",
    "\tfor i in range(0, 8):\n",
    "\t\tf.readline()\n",
    "\n",
    "\tpoints = np.zeros( (4, numPoints))\n",
    "\n",
    "\tfor i in range(0, numPoints):\n",
    "\t\tk = np.array( f.readline().split(' ')[0:3], dtype = np.float32)\n",
    "\t\tpoints[0:3, i] = ( k )\n",
    "\n",
    "\tpoints[3, :] = np.ones(numPoints)\n",
    "\treturn points \n",
    "\n",
    "def getPlaneCloudIntersectionPoints(planeParams, points, eps):\n",
    "    intersectionPoints = []\n",
    "    for i in range(points.shape[1]):\n",
    "        if abs( np.dot(planeParams, points[:, i]) ) < eps :\n",
    "            intersectionPoints.append(points[:, i])\n",
    "    \n",
    "    return intersectionPoints\n",
    "\n",
    "def writePlyFile(points, outCloud):\n",
    "\n",
    "\tnumPoints = len(points)\n",
    "\n",
    "\tf = open(outCloud, 'w')\n",
    "\tf.write(\"ply\\n\")\n",
    "\tf.write(\"format ascii 1.0\\n\")\n",
    "\tf.write(\"element vertex {}\\n\".format(numPoints))\n",
    "\tf.write(\"property float x\\nproperty float y\\nproperty float z\\n\")\n",
    "\tf.write(\"end_header\\n\")\n",
    "\tfor i in range(0, numPoints):\n",
    "\t\tf.write(\"{} {} {}\\n\".format( points[i][0], points[i][1], points[i][2] ))"
   ]
  },
  {
   "cell_type": "code",
   "execution_count": 7,
   "metadata": {},
   "outputs": [],
   "source": [
    "points = getPointsArray(inputCloud)"
   ]
  },
  {
   "cell_type": "code",
   "execution_count": 41,
   "metadata": {},
   "outputs": [],
   "source": [
    "inputCloud = \"/home/cvlab/floorplan/kinects/CVlab/k1/full/out_cloud.ply\" \n",
    "planeParams = np.array([0.0046, -1.1815, -0.3123, -0.75], dtype = np.float32)\n",
    "eps = 0.03\n",
    "outCloud = \"/home/cvlab/floorplan/kinects/CVlab/k1/full/strips/strip1.ply\""
   ]
  },
  {
   "cell_type": "code",
   "execution_count": 42,
   "metadata": {},
   "outputs": [],
   "source": [
    "intersectionPoints = getPlaneCloudIntersectionPoints(planeParams, points, eps)"
   ]
  },
  {
   "cell_type": "code",
   "execution_count": 43,
   "metadata": {},
   "outputs": [
    {
     "data": {
      "text/plain": [
       "183875"
      ]
     },
     "execution_count": 43,
     "metadata": {},
     "output_type": "execute_result"
    }
   ],
   "source": [
    "len(intersectionPoints)"
   ]
  },
  {
   "cell_type": "code",
   "execution_count": 44,
   "metadata": {},
   "outputs": [],
   "source": [
    "writePlyFile(intersectionPoints, outCloud)"
   ]
  },
  {
   "cell_type": "code",
   "execution_count": null,
   "metadata": {},
   "outputs": [],
   "source": []
  }
 ],
 "metadata": {
  "kernelspec": {
   "display_name": "Python 2",
   "language": "python",
   "name": "python2"
  },
  "language_info": {
   "codemirror_mode": {
    "name": "ipython",
    "version": 2
   },
   "file_extension": ".py",
   "mimetype": "text/x-python",
   "name": "python",
   "nbconvert_exporter": "python",
   "pygments_lexer": "ipython2",
   "version": "2.7.15"
  }
 },
 "nbformat": 4,
 "nbformat_minor": 2
}
